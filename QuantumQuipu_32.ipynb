{
  "cells": [
    {
      "cell_type": "markdown",
      "metadata": {
        "id": "view-in-github",
        "colab_type": "text"
      },
      "source": [
        "<a href=\"https://colab.research.google.com/github/DGuzmanRomano/QuantumQuipu-challenge/blob/main/QuantumQuipu_32.ipynb\" target=\"_parent\"><img src=\"https://colab.research.google.com/assets/colab-badge.svg\" alt=\"Open In Colab\"/></a>"
      ]
    },
    {
      "cell_type": "markdown",
      "source": [
        "# Challenge: QuantumChallenge\n",
        "### Team # 32\n",
        "### Team Members\n",
        "- Ayelen Perez | Argentina\n",
        "- Jefferson Granizo | Ecuador\n",
        "- Jesus Montemayor | Perú\n",
        "- Rubén Guzmán | México\n",
        "- Andres Diaz | Puerto Rico\n",
        "\n",
        "\n",
        "\n",
        "# Exploración Cuántica en la Codificación y Clasificación de Datos\n",
        "\n",
        "**Objetivos del Proyecto:**\n",
        "\n",
        "* Diseño de Circuitos Cuánticos Variacionales: Implementación de estrategias de codificación cuántica.\n",
        "\n",
        "* Enfoques Utilizados: Amplitude Encoding y Angle Encoding.\n",
        "\n",
        "* Utilización de Datos: Columnas F1, F2, F3 y F4 para la clasificación.\n",
        "\n",
        "* Evaluación y Comparación: Análisis exhaustivo del rendimiento de los modelos.\n",
        "\n",
        "\n",
        "\n",
        "**Herramientas Utilizadas:**\n",
        "\n",
        "* Qiskit: Biblioteca líder para la Computación Cuántica.\n",
        "* Scikit-learn: Herramienta clave para el Machine Learning Clásico.\n",
        "* Pandas: Manipulación eficiente de datos.\n",
        "* Matplotlib y Seaborn: Visualización de resultados.\n",
        "\n",
        "\n",
        "**Estrategias Implementadas:**\n",
        "\n",
        "1. Amplitude Encoding\n",
        "+ Feature Map: RawFeatureVector\n",
        "+ Ansatz: RealAmplitudes\n",
        "+ Validación Cruzada (k-Fold): Garantizando robustez en el rendimiento.\n",
        "\n",
        "2. Angle Encoding\n",
        "+ Feature Map: PauliFeatureMap\n",
        "+ Ansatz: EfficientSU2\n",
        "+ Validación Cruzada (k-Fold)\n",
        "\n",
        "**Resultados y Conclusiones:**\n",
        "+ Rendimiento Promedio: Validación cruzada y métricas en el conjunto de prueba.\n",
        "+ Comparación de Enfoques: Evaluación detallada para identificar la estrategia más eficaz.\n",
        "\n",
        "\n",
        "**Agradecimientos:**\n",
        "\n",
        "Agradecemos la oportunidad de participar en este desafío!"
      ],
      "metadata": {
        "id": "uYlOyXQ-EG6z"
      }
    },
    {
      "cell_type": "code",
      "execution_count": null,
      "metadata": {
        "id": "9OonbC_B-Oq1"
      },
      "outputs": [],
      "source": [
        "!pip install numpy matplotlib scikit-learn pandas\n",
        "!pip install qiskit\n",
        "!pip install qiskit_machine_learning\n",
        "!pip install qiskit-aer\n",
        "!pip install qiskit[qiskit_machine_learning]\n",
        "!pip install pylatexenc\n",
        "!pip install qiskit_algorithms"
      ]
    },
    {
      "cell_type": "code",
      "source": [
        "from sklearn.preprocessing import StandardScaler, MinMaxScaler\n",
        "from sklearn.metrics import accuracy_score\n",
        "from qiskit_machine_learning.algorithms import VQC\n",
        "from qiskit_machine_learning.circuit.library import RawFeatureVector\n",
        "from pandas._libs.missing import NA\n",
        "from sklearn.metrics import accuracy_score\n",
        "from sklearn.model_selection import train_test_split\n",
        "from qiskit.circuit.library import ZZFeatureMap, RealAmplitudes\n",
        "from qiskit_machine_learning.circuit.library import RawFeatureVector\n",
        "from qiskit.algorithms.optimizers import COBYLA\n",
        "from qiskit_machine_learning.algorithms import VQC\n",
        "from qiskit.utils import QuantumInstance, algorithm_globals\n",
        "from sklearn.preprocessing import StandardScaler, MinMaxScaler\n",
        "import pandas as pd\n",
        "from sklearn.model_selection import KFold\n",
        "from qiskit.visualization import circuit_drawer\n",
        "from qiskit import QuantumCircuit\n"
      ],
      "metadata": {
        "id": "hJKoNCpBEzz7"
      },
      "execution_count": 8,
      "outputs": []
    },
    {
      "cell_type": "markdown",
      "source": [
        "# Carga y analisis de datasets\n",
        "\n",
        "Primero se analizó el dataset que consta de 4 features y 1 target de clasificación binaria, se comprobó que el dataset está balanceado con una distribución de clases de casi 50%-50% asi evitamos tener que realizar preprocesamiento para evitar bias, ademas se vió que se cuentan con 800 instancias, por lo que es un dataset pequeño, los valores de las caracteristicas son numeros de punto flotante con una gran cantidad de digitos.\n",
        "Se comprobó ademas la consistencia de los datos, si existen instancias duplicadas y si hay valores vacios, resultando en que es un dataset consistente y balanceado, listo para trabajar."
      ],
      "metadata": {
        "id": "Jp1zixHzIB3b"
      }
    },
    {
      "cell_type": "code",
      "execution_count": 9,
      "metadata": {
        "colab": {
          "base_uri": "https://localhost:8080/"
        },
        "id": "LEsmMCr-Ba4Y",
        "outputId": "41019459-e485-4093-e6a9-e00785fc9117"
      },
      "outputs": [
        {
          "output_type": "stream",
          "name": "stdout",
          "text": [
            "Missing Values:\n",
            " Series([], dtype: int64)\n",
            "\n",
            "Feature Consistency (Number of Unique Values per Feature):\n",
            " F1        1000\n",
            "F2        1000\n",
            "F3        1000\n",
            "F4        1000\n",
            "Target       2\n",
            "dtype: int64\n",
            "\n",
            "Duplicated Entries:\n",
            " Empty DataFrame\n",
            "Columns: [F1, F2, F3, F4, Target]\n",
            "Index: []\n",
            "\n",
            "Class distribution in the dataset:\n",
            "1    0.50625\n",
            "0    0.49375\n",
            "Name: Target, dtype: float64\n",
            "\n",
            "\n",
            "The dataset is balanced.\n"
          ]
        },
        {
          "output_type": "stream",
          "name": "stderr",
          "text": [
            "<ipython-input-9-eb1450cc9e1e>:1: DeprecationWarning: The property ``qiskit.utils.algorithm_globals.QiskitAlgorithmGlobals.random_seed`` is deprecated as of qiskit 0.45.0. It will be removed no earlier than 3 months after the release date. This algorithm utility has been migrated to an independent package: https://github.com/qiskit-community/qiskit-algorithms. You can run ``pip install qiskit_algorithms`` and import ``from qiskit_algorithms.utils`` instead. \n",
            "  algorithm_globals.random_seed = 32\n"
          ]
        }
      ],
      "source": [
        "algorithm_globals.random_seed = 32\n",
        "\n",
        "train_df = pd.read_csv('challenge_train.csv').drop(columns=['Unnamed: 0'])\n",
        "test_df = pd.read_csv('challenge_test.csv').drop(columns=['Unnamed: 0'])\n",
        "\n",
        "\n",
        "X_train = train_df.drop('Target', axis=1).values\n",
        "y_train = train_df['Target'].values\n",
        "X_test = test_df.drop('Target', axis=1).values\n",
        "y_test = test_df['Target'].values\n",
        "\n",
        "\n",
        "# Combine train and test datasets for consistency checks\n",
        "combined_df = pd.concat([train_df, test_df], axis=0, ignore_index=True)\n",
        "\n",
        "# Check for missing values\n",
        "missing_values = combined_df.isnull().sum()\n",
        "print(\"Missing Values:\\n\", missing_values[missing_values > 0])\n",
        "\n",
        "# Check feature consistency\n",
        "feature_consistency = combined_df.apply(lambda x: len(x.unique()))\n",
        "print(\"\\nFeature Consistency (Number of Unique Values per Feature):\\n\", feature_consistency)\n",
        "\n",
        "# Check for data duplication\n",
        "duplicated_entries = combined_df.duplicated()\n",
        "print(\"\\nDuplicated Entries:\\n\", combined_df[duplicated_entries])\n",
        "\n",
        "\n",
        "class_counts = train_df['Target'].value_counts()\n",
        "total_counts = len(train_df['Target'])\n",
        "balance_info = class_counts / total_counts\n",
        "\n",
        "print(\"\\nClass distribution in the dataset:\")\n",
        "print(balance_info)\n",
        "print(\"\\n\")\n",
        "\n",
        "# Check if the target is balanced\n",
        "\n",
        "threshold = 0.4  #\n",
        "if balance_info.min() > threshold:\n",
        "    print(\"The dataset is balanced.\")\n",
        "else:\n",
        "    print(\"The dataset is imbalanced.\")\n"
      ]
    },
    {
      "cell_type": "markdown",
      "source": [
        "# Pre-procesamiento\n",
        "Al ser un dataset sin problemas evidentes, se probaron distintas configuraciones de escalado para las caracteristicas ya que presentan numeros con muchos digitos, por tanto muy separados entre si, al ser pocas caracteristicas y pocas instancias tampoco se realizó un procesamiento en ese sentido, tampoco se identificaron outliers.\n",
        "La opción de escalado con mejores resultados fue MinMaxScaler para normalizar los datos."
      ],
      "metadata": {
        "id": "-559mHAK9Uwu"
      }
    },
    {
      "cell_type": "code",
      "source": [
        "#Parameters\n",
        "scaler = MinMaxScaler()\n",
        "\n",
        "X_train_scaled = scaler.fit_transform(X_train)\n",
        "X_test_scaled = scaler.transform(X_test)\n",
        "\n",
        "print(X_train_scaled)\n"
      ],
      "metadata": {
        "colab": {
          "base_uri": "https://localhost:8080/"
        },
        "id": "b51D-cl8IAnw",
        "outputId": "25a5e576-ed2f-4037-a161-74eaa307f8e0"
      },
      "execution_count": 10,
      "outputs": [
        {
          "output_type": "stream",
          "name": "stdout",
          "text": [
            "[[0.47127616 0.63945035 0.44096594 0.75885855]\n",
            " [0.57449798 0.58410799 0.28236492 0.56915001]\n",
            " [0.55790566 0.56919371 0.37882966 0.38061865]\n",
            " ...\n",
            " [0.63294732 0.0476897  0.29581521 0.69291343]\n",
            " [0.34864536 0.36479758 0.64688142 0.25805025]\n",
            " [0.66273462 0.59978692 0.49345913 0.38540937]]\n"
          ]
        }
      ]
    },
    {
      "cell_type": "markdown",
      "source": [
        "# Codificación\n",
        "En Quantum Machine Learning, la codificación o encoding es el proceso de transformar datos clasicos en estados cuanticos, se puede hacer de diversas maneras, en esté caso se hara la implementacion con Amplitude y Angle Encoding."
      ],
      "metadata": {
        "id": "ieRrK4q3-yPs"
      }
    },
    {
      "cell_type": "markdown",
      "source": [
        "# Amplitude Encoding\n",
        "\n",
        "Con la codificación de amplitud, un estado cuántico con n qubits se puede representar en un vector clásico de 2^n elementos. En este caso, con 2 qubits, podemos representar las 2^2 = 4 características del conjunto de datos."
      ],
      "metadata": {
        "id": "qJk7H-K4MkK1"
      }
    },
    {
      "cell_type": "markdown",
      "source": [
        "# Feature Map\n",
        "El Feature map es el encargado de realizar la codificacion de datos clasicos a estados cuanticos, la dimension es el numero de caracteristicas del dataset que van a ser mapeadas a estados cuanticos.\n",
        "# RawFeatureVector\n",
        "El feature map elegido para Amplitude encoding fue el Raw feature vector por ser especialmente diseñado para este tipo de codificación-"
      ],
      "metadata": {
        "id": "whKM02roCFMl"
      }
    },
    {
      "cell_type": "code",
      "source": [
        "feature_map_amplitude = RawFeatureVector(feature_dimension=4)\n",
        "feature_map_amplitude.draw(output='mpl')"
      ],
      "metadata": {
        "colab": {
          "base_uri": "https://localhost:8080/",
          "height": 246
        },
        "id": "2zoUhVrVJWaq",
        "outputId": "05a04366-6046-4e80-d49f-679312e4e541"
      },
      "execution_count": 11,
      "outputs": [
        {
          "output_type": "stream",
          "name": "stderr",
          "text": [
            "/usr/local/lib/python3.10/dist-packages/qiskit/visualization/circuit/matplotlib.py:266: FutureWarning: The default matplotlib drawer scheme will be changed to \"iqp\" in a following release. To silence this warning, specify the current default explicitly as style=\"clifford\", or the new default as style=\"iqp\".\n",
            "  self._style, def_font_ratio = load_style(self._style)\n"
          ]
        },
        {
          "output_type": "execute_result",
          "data": {
            "text/plain": [
              "<Figure size 454.517x200.667 with 1 Axes>"
            ],
            "image/png": "[encoded data removed]"
          },
          "metadata": {},
          "execution_count": 11
        }
      ]
    },
    {
      "cell_type": "markdown",
      "source": [
        "# 2 qubits para dimensión 4"
      ],
      "metadata": {
        "id": "ISPCp3QuDGkE"
      }
    },
    {
      "cell_type": "markdown",
      "source": [
        "***********************\n",
        "# Ansatz\n",
        "\n",
        "El ansatz es el circuito cuantico parametrizado o variacional y se conecta a la salida del Feature map\n",
        "El seleccionado fue RealAmplitudes con una gran variedad de parametros probados con un grid search y k-folds, finalmente los mejores fueron:\n",
        "\n",
        "entrelazamiento = reverse linear\n",
        "enlazando los qubits en orden regresivo (del ultimo al primero)\n",
        "\n",
        "reps=6\n",
        "\n",
        "Es el numero de veces que se repite el patrón del ansatz, mas repeticiones aumenta la expresividad del modelo pero aumenta la complejidad y un potencial Barren Plateau u overfitting.\n",
        "\n",
        "qubit =2\n",
        "\n",
        "El numero de qubits se mantiene en 2 al ser la salida del feature map la entrada del ansatz."
      ],
      "metadata": {
        "id": "-1i-llUHN1xf"
      }
    },
    {
      "cell_type": "code",
      "source": [
        "#ansatz parameters\n",
        "entanglement = 'reverse_linear'\n",
        "reps =  6\n",
        "qbit = 2\n",
        "\n",
        "ansatz_amplitude = RealAmplitudes(num_qubits=qbit, entanglement=entanglement, reps=reps)\n",
        "ansatz_amplitude.draw(output='mpl')\n"
      ],
      "metadata": {
        "colab": {
          "base_uri": "https://localhost:8080/",
          "height": 191
        },
        "id": "nMZP-8lLKOgH",
        "outputId": "b0c45e97-3113-4420-fe00-6aceed73df10"
      },
      "execution_count": 12,
      "outputs": [
        {
          "output_type": "execute_result",
          "data": {
            "text/plain": [
              "<Figure size 788.961x200.667 with 1 Axes>"
            ],
            "image/png": "[encoded data removed]"
          },
          "metadata": {},
          "execution_count": 12
        }
      ]
    },
    {
      "cell_type": "code",
      "source": [
        "ansatz_amplitude.decompose().draw(output='mpl')\n"
      ],
      "metadata": {
        "colab": {
          "base_uri": "https://localhost:8080/",
          "height": 191
        },
        "id": "GA3WzK4YNaE5",
        "outputId": "db28b56e-279a-419e-d17a-6cdeab84521f"
      },
      "execution_count": 13,
      "outputs": [
        {
          "output_type": "execute_result",
          "data": {
            "text/plain": [
              "<Figure size 1207.02x200.667 with 1 Axes>"
            ],
            "image/png": "[encoded data removed]"
          },
          "metadata": {},
          "execution_count": 13
        }
      ]
    },
    {
      "cell_type": "markdown",
      "source": [
        "# 6 repeticiones de 2 qubits entrelazados con reverse linear"
      ],
      "metadata": {
        "id": "OcvUPzmdF5tq"
      }
    },
    {
      "cell_type": "markdown",
      "source": [
        "# Optimizador\n",
        "En el proceso se usa un optimizador clasico ya que son eficientes y no se tiene una ventaja cuantica de hacerlo cuantico.\n",
        "el seleccionado fue COBYLA por ser adecuado para problemas de optimización de pequeña escala.\n",
        "\n",
        "Para las iteraciones se encontró que 150 daba los mejores resultados."
      ],
      "metadata": {
        "id": "W1AgFIfJGTPC"
      }
    },
    {
      "cell_type": "code",
      "source": [
        "maxiter = 150\n",
        "optimizer = COBYLA(maxiter=maxiter)"
      ],
      "metadata": {
        "id": "BoZzN7IcNVid"
      },
      "execution_count": 14,
      "outputs": []
    },
    {
      "cell_type": "markdown",
      "source": [
        "# VQC\n",
        "\n",
        "Definicion del variational quantum classifier (VQC)\n",
        "Es el clasificador seleccionado para procesar los datos, es un algoritmo hibrido que usa el circuito cuantico y el optimizador clasico.\n",
        "\n",
        "Está diseñado para clasificar datos usando un ansatz.\n",
        "Tras el grid search con mas de 200 combinaciones se obtuvo que los mejores parametros de feature map, ansatz, optimizer y para el sampler que es donde se va a simular el proceso cuantico None significa que el algoritmo selecciona por default el mejor simulador para el caso especifico."
      ],
      "metadata": {
        "id": "sXRv7pjcG39r"
      }
    },
    {
      "cell_type": "code",
      "source": [
        "# Define VQC algorithm\n",
        "vqc_amplitude = VQC(num_qubits=2, feature_map=feature_map_amplitude, ansatz=ansatz_amplitude, optimizer=optimizer, sampler=None,)"
      ],
      "metadata": {
        "id": "CQlUUtyo3MFk"
      },
      "execution_count": 15,
      "outputs": []
    },
    {
      "cell_type": "markdown",
      "source": [
        "# Validación cruzada\n",
        "\n",
        "La validación cruzada se realiza para probar la configuración del modelo en varios pliegues de datos y asi ver su capacidad de generalizar y si su desempeño está condicionado a unos datos en especifico o no, confirmando la ausencia de overfitting, al tener pocos datos de entrenamiento esto tambien ayuda a probar el modelo con mas configuraciones y ver si en todas obtiene resultados similares."
      ],
      "metadata": {
        "id": "QdwUShHrIIA4"
      }
    },
    {
      "cell_type": "code",
      "source": [
        "from sklearn.model_selection import StratifiedKFold\n",
        "from sklearn.metrics import accuracy_score\n",
        "import numpy as np\n",
        "\n",
        "\n",
        "\n",
        "# # # Initialize cross-validation for 5 folds\n",
        "kfold = StratifiedKFold(n_splits=5, shuffle=True, random_state=42)\n",
        "cv_scores = []\n",
        "\n",
        "for train_index, test_index in kfold.split(X_train_scaled, y_train):\n",
        "    # Split the data\n",
        "    X_train_fold, X_test_fold = X_train_scaled[train_index], X_train_scaled[test_index]\n",
        "    y_train_fold, y_test_fold = y_train[train_index], y_train[test_index]\n",
        "\n",
        "    # Train the VQC model\n",
        "    vqc_amplitude.fit(X_train_fold, y_train_fold)\n",
        "    y_pred_fold = vqc_amplitude.predict(X_test_fold)\n",
        "    fold_accuracy = accuracy_score(y_test_fold, y_pred_fold)\n",
        "\n",
        "\n",
        "    cv_scores.append(fold_accuracy)\n",
        "\n",
        "\n",
        "cv_scores = np.array(cv_scores)\n",
        "\n",
        "print(f\"K-Fold Cross-Validation Scores: {cv_scores}\")\n",
        "print(f\"Mean CV Accuracy: {cv_scores.mean()}\")\n",
        "print(f\"Standard Deviation of CV Accuracy: {cv_scores.std()}\")\n",
        "\n"
      ],
      "metadata": {
        "colab": {
          "base_uri": "https://localhost:8080/"
        },
        "id": "xIToaw_HbGKW",
        "outputId": "23e7655b-cd4a-4e31-eef4-0d0a902972ea"
      },
      "execution_count": null,
      "outputs": [
        {
          "output_type": "stream",
          "name": "stdout",
          "text": [
            "K-Fold Cross-Validation Scores: [0.975   0.95    0.94375 0.95    0.94375]\n",
            "Mean CV Accuracy: 0.9524999999999999\n",
            "Standard Deviation of CV Accuracy: 0.011592023119369634\n"
          ]
        }
      ]
    },
    {
      "cell_type": "markdown",
      "source": [
        "Con 5 pliegues, se realizó un StratifiedKFold y los resultados muestran accuracy similar para los 5, con una desviación estandar baja, indicando que el modelo funciona bien en diferentes grupos de datos."
      ],
      "metadata": {
        "id": "GiVZYJzDIwAi"
      }
    },
    {
      "cell_type": "markdown",
      "source": [
        "# Entrenamiento final del modelo\n",
        "\n",
        "Finalmente, se entrena el modelo con el dataset completo y se obtienen las predicciones del conjunto de prueba."
      ],
      "metadata": {
        "id": "BoZJpeufJJsi"
      }
    },
    {
      "cell_type": "code",
      "source": [
        "# fit the VQC model on the entire training set\n",
        "vqc_amplitude.fit(X_train_scaled, y_train)\n",
        "y_pred = vqc_amplitude.predict(X_test_scaled)\n",
        "test_accuracy = accuracy_score(y_test, y_pred)\n",
        "\n"
      ],
      "metadata": {
        "id": "dHVMOPos3Op8"
      },
      "execution_count": null,
      "outputs": []
    },
    {
      "cell_type": "markdown",
      "source": [
        "# Metricas y resultados\n",
        "\n",
        "Tras entrenar el modelo se obtienen diversas metricas para analizar el desempeño.\n",
        "\n",
        "Con está configuración, se obtuvo un accuracy de\n",
        "#0.99\n",
        "Con un nivel igualmente alto en f1-score, recall y precision.\n",
        "\n",
        "La matriz de confusión nos indica que solo hubo 2 falsos positivos.\n"
      ],
      "metadata": {
        "id": "TK8RkP82JYxt"
      }
    },
    {
      "cell_type": "code",
      "source": [
        "from sklearn.metrics import classification_report, confusion_matrix\n",
        "\n",
        "accuracy = test_accuracy\n",
        "print(f\"Accuracy: {accuracy}\")\n",
        "# Calculate metrics\n",
        "print(classification_report(y_test, y_pred))\n",
        "\n",
        "# Confusion matrix\n",
        "cm = confusion_matrix(y_test, y_pred)\n",
        "print(\"Confusion Matrix:\")\n",
        "print(cm)\n",
        "\n",
        "# Extracting true_positives, false_positives, false_negatives, true_negatives\n",
        "tp, fn, fp, tn = cm.ravel()\n",
        "print(f\"True Positives: {tp}\")\n",
        "print(f\"False Positives: {fp}\")\n",
        "print(f\"False Negatives: {fn}\")\n",
        "print(f\"True Negatives: {tn}\")"
      ],
      "metadata": {
        "colab": {
          "base_uri": "https://localhost:8080/"
        },
        "id": "lqdEvLufcU0N",
        "outputId": "317b9277-771e-4836-a6cf-d4de248610d5"
      },
      "execution_count": null,
      "outputs": [
        {
          "output_type": "stream",
          "name": "stdout",
          "text": [
            "Accuracy: 0.99\n",
            "              precision    recall  f1-score   support\n",
            "\n",
            "           0       0.98      1.00      0.99       106\n",
            "           1       1.00      0.98      0.99        94\n",
            "\n",
            "    accuracy                           0.99       200\n",
            "   macro avg       0.99      0.99      0.99       200\n",
            "weighted avg       0.99      0.99      0.99       200\n",
            "\n",
            "Confusion Matrix:\n",
            "[[106   0]\n",
            " [  2  92]]\n",
            "True Positives: 106\n",
            "False Positives: 2\n",
            "False Negatives: 0\n",
            "True Negatives: 92\n"
          ]
        }
      ]
    },
    {
      "cell_type": "markdown",
      "source": [
        "# Angle Encoding"
      ],
      "metadata": {
        "id": "jQDN6Ny99BLf"
      }
    },
    {
      "cell_type": "markdown",
      "source": [
        "El segundo metodo seleccionado fue el Angle encoding que usa rotation gates para codificar la informacion en los estados cuanticos."
      ],
      "metadata": {
        "id": "zSj5unYaKSdM"
      }
    },
    {
      "cell_type": "markdown",
      "source": [
        "# PauliFeatureMap\n",
        "El feature map tras pruebas se seleccionó el Pauli Feature Map, que utiliza compuertas de Pauli para codificar los estados cuanticos.\n",
        "\n",
        "# Parametros\n",
        "\n",
        "Feature dimension= 4 por nuestras 4 caracteristicas.\n",
        "\n",
        "reps= 1\n",
        "Pauli gates = X, Y"
      ],
      "metadata": {
        "id": "SClodghBNoWI"
      }
    },
    {
      "cell_type": "code",
      "source": [
        "from qiskit.circuit.library import PauliFeatureMap, EfficientSU2\n",
        "\n",
        "# Feature map parameters\n",
        "feature_reps = 1\n",
        "\n",
        "barrier = False\n",
        "\n",
        "feature_map_angle = PauliFeatureMap(feature_dimension=4, reps=feature_reps, paulis=['X','Y'], insert_barriers=barrier)\n",
        "feature_map_angle.decompose().draw(output='mpl')\n"
      ],
      "metadata": {
        "id": "wSDDSpiuccRg",
        "colab": {
          "base_uri": "https://localhost:8080/",
          "height": 375
        },
        "outputId": "67a8411f-1ad0-4621-e0b1-053a5f8836f7"
      },
      "execution_count": null,
      "outputs": [
        {
          "output_type": "stream",
          "name": "stderr",
          "text": [
            "/usr/local/lib/python3.10/dist-packages/qiskit/visualization/circuit/matplotlib.py:266: FutureWarning: The default matplotlib drawer scheme will be changed to \"iqp\" in a following release. To silence this warning, specify the current default explicitly as style=\"clifford\", or the new default as style=\"iqp\".\n",
            "  self._style, def_font_ratio = load_style(self._style)\n"
          ]
        },
        {
          "output_type": "execute_result",
          "data": {
            "text/plain": [
              "<Figure size 705.552x367.889 with 1 Axes>"
            ],
            "image/png": "[encoded data removed]"
          },
          "metadata": {},
          "execution_count": 13
        }
      ]
    },
    {
      "cell_type": "markdown",
      "source": [
        "# Ansatz\n",
        "\n",
        "El ansatz seleccionado fue\n",
        "# EfficientSU2\n",
        "Ya que está compuesto de compuertas su2 que realizan rotaciones de qubit que cubren la totalidad de la esfera de Bloch, obteniendo una alta expresividad.\n",
        "# Parametros\n",
        "\n",
        "\n",
        "entanglement = 'linear' //entrelazamiento linear\n",
        "\n",
        "ansatz_reps = 3 //repeticiones\n",
        "\n",
        "skip_final_rotation_layer = True //No rota los qubits al final del circuito\n",
        "\n",
        "su2_gates = ['rx', 'ry'] //compuertas a usar"
      ],
      "metadata": {
        "id": "pg6dWo29OZJj"
      }
    },
    {
      "cell_type": "code",
      "source": [
        "\n",
        "# Ansatz parameters\n",
        "entanglement = 'linear'\n",
        "\n",
        "ansatz_reps = 3\n",
        "\n",
        "skip_final_rotation_layer = True\n",
        "\n",
        "su2_gates = ['rx', 'ry']\n",
        "\n",
        "\n",
        "ansatz_angle = EfficientSU2(num_qubits=4, reps=ansatz_reps, entanglement=entanglement,\n",
        "                    su2_gates=su2_gates, skip_final_rotation_layer=skip_final_rotation_layer)\n",
        "\n",
        "ansatz_angle.draw(output='mpl')"
      ],
      "metadata": {
        "colab": {
          "base_uri": "https://localhost:8080/",
          "height": 320
        },
        "id": "L0MpPRAM0Ix_",
        "outputId": "980182a0-5e65-4e47-b0cf-5d43ec0ade3d"
      },
      "execution_count": null,
      "outputs": [
        {
          "output_type": "execute_result",
          "data": {
            "text/plain": [
              "<Figure size 872.774x367.889 with 1 Axes>"
            ],
            "image/png": "[encoded data removed]"
          },
          "metadata": {},
          "execution_count": 14
        }
      ]
    },
    {
      "cell_type": "code",
      "source": [
        "ansatz_angle.decompose().draw(output='mpl')"
      ],
      "metadata": {
        "colab": {
          "base_uri": "https://localhost:8080/",
          "height": 308
        },
        "id": "B_minQc46i2m",
        "outputId": "4ca31437-78dc-47e1-b279-abc2678e4c6b"
      },
      "execution_count": null,
      "outputs": [
        {
          "output_type": "execute_result",
          "data": {
            "text/plain": [
              "<Figure size 1207.22x367.889 with 1 Axes>"
            ],
            "image/png": "[encoded data removed]"
          },
          "metadata": {},
          "execution_count": 15
        }
      ]
    },
    {
      "cell_type": "markdown",
      "source": [
        "# Optimizador\n",
        "\n",
        "Se usa el mismo COBYLA con 150 iteraciones"
      ],
      "metadata": {
        "id": "-pr3TePOPiS6"
      }
    },
    {
      "cell_type": "markdown",
      "source": [
        "# VQC\n",
        "\n",
        "Se cargan los componentes al VQC con el sampler por default\n"
      ],
      "metadata": {
        "id": "Tc7qO6tTPqKG"
      }
    },
    {
      "cell_type": "code",
      "source": [
        "optimizer = COBYLA(maxiter=150)\n",
        "vqc_angle = VQC(feature_map=feature_map_angle, ansatz=ansatz_angle, optimizer=optimizer, sampler=None)"
      ],
      "metadata": {
        "id": "zrKPqr9L2SjJ"
      },
      "execution_count": null,
      "outputs": []
    },
    {
      "cell_type": "markdown",
      "source": [
        "# Validación cruzada"
      ],
      "metadata": {
        "id": "hE52wDYWPy1e"
      }
    },
    {
      "cell_type": "code",
      "source": [
        "# # # Initialize cross-validation for 5 folds\n",
        "kfold = StratifiedKFold(n_splits=5, shuffle=True, random_state=32)\n",
        "cv_scores = []\n",
        "\n",
        "for train_index, test_index in kfold.split(X_train_scaled, y_train):\n",
        "    # Split the data\n",
        "    X_train_fold, X_test_fold = X_train_scaled[train_index], X_train_scaled[test_index]\n",
        "    y_train_fold, y_test_fold = y_train[train_index], y_train[test_index]\n",
        "\n",
        "    # Train the VQC model\n",
        "    vqc_angle.fit(X_train_fold, y_train_fold)\n",
        "    y_pred_fold = vqc_angle.predict(X_test_fold)\n",
        "    fold_accuracy = accuracy_score(y_test_fold, y_pred_fold)\n",
        "\n",
        "\n",
        "    cv_scores.append(fold_accuracy)\n",
        "\n",
        "\n",
        "cv_scores = np.array(cv_scores)\n",
        "\n",
        "print(f\"K-Fold Cross-Validation Scores: {cv_scores}\")\n",
        "print(f\"Mean CV Accuracy: {cv_scores.mean()}\")\n",
        "print(f\"Standard Deviation of CV Accuracy: {cv_scores.std()}\")\n"
      ],
      "metadata": {
        "colab": {
          "base_uri": "https://localhost:8080/"
        },
        "id": "IBgmP1cF2L16",
        "outputId": "4d0f4bb8-50c0-4f59-8a59-76247dbb19f9"
      },
      "execution_count": null,
      "outputs": [
        {
          "output_type": "stream",
          "name": "stdout",
          "text": [
            "K-Fold Cross-Validation Scores: [0.95625 0.96875 0.9625  0.94375 0.9625 ]\n",
            "Mean CV Accuracy: 0.95875\n",
            "Standard Deviation of CV Accuracy: 0.008477912478906594\n"
          ]
        }
      ]
    },
    {
      "cell_type": "markdown",
      "source": [
        "# Resultados\n",
        "\n",
        "Se obtuvo un accuracy de\n",
        "# 0.97\n",
        "\n",
        "con 6 falsos positivos"
      ],
      "metadata": {
        "id": "WfEpAuFIP2zD"
      }
    },
    {
      "cell_type": "code",
      "source": [
        "vqc_angle.fit(X_train_scaled, y_train)\n",
        "y_pred = vqc_angle.predict(X_test_scaled)\n",
        "accuracy = accuracy_score(y_test, y_pred)\n",
        "print(accuracy)\n",
        "# Calculate metrics\n",
        "print(classification_report(y_test, y_pred))\n",
        "\n",
        "# Confusion matrix\n",
        "cm = confusion_matrix(y_test, y_pred)\n",
        "print(\"Confusion Matrix:\")\n",
        "print(cm)\n",
        "\n",
        "# Extracting true_positives, false_positives, false_negatives, true_negatives\n",
        "tp, fn, fp, tn = cm.ravel()\n",
        "print(f\"True Positives: {tp}\")\n",
        "print(f\"False Positives: {fp}\")\n",
        "print(f\"False Negatives: {fn}\")\n",
        "print(f\"True Negatives: {tn}\")"
      ],
      "metadata": {
        "colab": {
          "base_uri": "https://localhost:8080/"
        },
        "id": "fZ0GG9Ug0v--",
        "outputId": "eef5a642-b6e3-47c3-d7ae-6fd2650400bd"
      },
      "execution_count": null,
      "outputs": [
        {
          "output_type": "stream",
          "name": "stdout",
          "text": [
            "0.97\n",
            "              precision    recall  f1-score   support\n",
            "\n",
            "           0       0.95      1.00      0.97       106\n",
            "           1       1.00      0.94      0.97        94\n",
            "\n",
            "    accuracy                           0.97       200\n",
            "   macro avg       0.97      0.97      0.97       200\n",
            "weighted avg       0.97      0.97      0.97       200\n",
            "\n",
            "Confusion Matrix:\n",
            "[[106   0]\n",
            " [  6  88]]\n",
            "True Positives: 106\n",
            "False Positives: 6\n",
            "False Negatives: 0\n",
            "True Negatives: 88\n"
          ]
        }
      ]
    },
    {
      "cell_type": "code",
      "source": [
        "\n"
      ],
      "metadata": {
        "id": "f9pVQ9EA2IS4"
      },
      "execution_count": null,
      "outputs": []
    },
    {
      "cell_type": "markdown",
      "source": [
        "# Conclusión\n",
        "\n",
        "Existen diversas maneras de codificar datos clasicos en estados cuanticos para Machine Learning, aun no hay un consenso de cual es mejor en segun que situación o uno que sea universalmente mejor que otro por lo que las pruebas deben realizarse, en este caso, analizando cientos de combinaciones determinamos que Amplitude encoding es ligeramente superior para el caso de estudio pero aun asi Angle encoding obtuvo resultados altos."
      ],
      "metadata": {
        "id": "1jRAHh_3RIE8"
      }
    }
  ],
  "metadata": {
    "colab": {
      "provenance": [],
      "include_colab_link": true
    },
    "kernelspec": {
      "display_name": "Python 3",
      "name": "python3"
    },
    "language_info": {
      "name": "python"
    }
  },
  "nbformat": 4,
  "nbformat_minor": 0
}